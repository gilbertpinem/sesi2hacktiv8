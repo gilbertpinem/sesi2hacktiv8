{
 "cells": [
  {
   "cell_type": "markdown",
   "id": "1c4dcd66-cfed-41a8-a3a1-e9c8aba55486",
   "metadata": {},
   "source": [
    "## Sesi 2\n"
   ]
  },
  {
   "cell_type": "code",
   "execution_count": 9,
   "id": "00c8863e-bc62-49ee-ac81-d5198a06145f",
   "metadata": {},
   "outputs": [
    {
     "name": "stdout",
     "output_type": "stream",
     "text": [
      "Salah\n"
     ]
    }
   ],
   "source": [
    "x = 4\n",
    "y = 3\n",
    "# y = 1\n",
    "if x < y : \n",
    "    print('Benar')\n",
    "elif x<=y : \n",
    "    print('Benar')\n",
    "else : print('Salah')"
   ]
  },
  {
   "cell_type": "code",
   "execution_count": 6,
   "id": "22f9bf61-2dbb-44dc-a7bd-8efad2b4afc6",
   "metadata": {},
   "outputs": [
    {
     "name": "stdout",
     "output_type": "stream",
     "text": [
      "true\n"
     ]
    }
   ],
   "source": [
    "if 'auk' in 'fauk' : \n",
    "    print('true')"
   ]
  },
  {
   "cell_type": "code",
   "execution_count": 10,
   "id": "9188a293-f03c-4db4-b30e-9087cbf6dee3",
   "metadata": {},
   "outputs": [
    {
     "name": "stdout",
     "output_type": "stream",
     "text": [
      "lalala\n"
     ]
    }
   ],
   "source": [
    "print('lalala')"
   ]
  },
  {
   "cell_type": "code",
   "execution_count": 12,
   "id": "3af2a47d-a2ea-4539-a604-f36086ff7915",
   "metadata": {},
   "outputs": [
    {
     "name": "stdin",
     "output_type": "stream",
     "text": [
      "Masukkan bilangan :  12\n"
     ]
    },
    {
     "name": "stdout",
     "output_type": "stream",
     "text": [
      "12 adalah Bilangan Genap\n"
     ]
    }
   ],
   "source": [
    "a = int(input(\"Masukkan bilangan : \"))\n",
    "if a%2 == 0 :\n",
    "    print(a, \"adalah Bilangan Genap\")\n",
    "else :\n",
    "    print(a, \"adalah Bilangan Ganjil\")"
   ]
  },
  {
   "cell_type": "code",
   "execution_count": 13,
   "id": "09a6811a-0cac-4ca2-925a-1d2aac2effba",
   "metadata": {},
   "outputs": [
    {
     "name": "stdin",
     "output_type": "stream",
     "text": [
      "Beli berapa pisang ? :  20\n"
     ]
    },
    {
     "name": "stdout",
     "output_type": "stream",
     "text": [
      "Harga awal 60000\n",
      "Total belanja anda adalah Rp 57000.0 ( didiskon 5%, sejumlah  3000.0 )\n"
     ]
    }
   ],
   "source": [
    "harga_pisang = 3000\n",
    "jumlah_beli = int(input(\"Beli berapa pisang ? : \"))\n",
    "\n",
    "harga_awal = harga_pisang * jumlah_beli\n",
    "print('Harga awal' , harga_awal)\n",
    "harga_diskon1 = (0.1*harga_awal)\n",
    "harga_diskon2 = (0.05*harga_awal) \n",
    "if harga_awal >= 100000 : \n",
    "    didiskon = harga_awal - harga_diskon1\n",
    "    print('Total belanja anda adalah Rp', didiskon, '( didiskon 10%, sejumlah', harga_diskon1, ')')\n",
    "elif 50000<harga_awal<100000:\n",
    "    didiskon = harga_awal - harga_diskon2\n",
    "    print('Total belanja anda adalah Rp', didiskon, '( didiskon 5%, sejumlah ',harga_diskon2, ')')\n",
    "else :\n",
    "    print('Total belanja anda', harga_awal)"
   ]
  },
  {
   "cell_type": "code",
   "execution_count": null,
   "id": "05025e13-8f0c-43eb-a9c5-fb75d14d2bb9",
   "metadata": {},
   "outputs": [],
   "source": [
    "gaji = float(input(\"Masukkan gaji Anda: \"))\n",
    "tahun = int(input(\"Masukkan Year of Service kerja Anda: \"))\n",
    "\n",
    "if tahun >= 10:\n",
    "    bonus = 0.1 * gaji\n",
    "    total_gaji = gaji + bonus\n",
    "    print(\"selamat Anda mendapatkan bonus!\", \"dan total gaji Anda adalah\", total_gaji)\n",
    "else:\n",
    "    print(\"Maaf, Anda tidak mendapatkan bonus\")"
   ]
  },
  {
   "cell_type": "code",
   "execution_count": 15,
   "id": "bfab5aef-76b8-437b-976c-18f2ec2519bc",
   "metadata": {},
   "outputs": [
    {
     "name": "stdout",
     "output_type": "stream",
     "text": [
      "4\n",
      "3\n",
      "2\n",
      "1\n",
      "0\n"
     ]
    }
   ],
   "source": [
    "apel = 5\n",
    "while apel >0 : \n",
    "    apel = apel-1\n",
    "    print(apel)\n",
    "    "
   ]
  },
  {
   "cell_type": "code",
   "execution_count": 23,
   "id": "693d2fb6-7bf8-42aa-a7b6-3bc846774aed",
   "metadata": {},
   "outputs": [
    {
     "name": "stdout",
     "output_type": "stream",
     "text": [
      "4\n",
      "3\n",
      "2\n"
     ]
    }
   ],
   "source": [
    "apel = 5\n",
    "while apel>0 : \n",
    "    apel = apel-1\n",
    "    print(apel)\n",
    "    if apel==2:\n",
    "        break\n",
    "else:\n",
    "    print('Loop Ended')"
   ]
  },
  {
   "cell_type": "code",
   "execution_count": 21,
   "id": "4f645bf1-2f6b-4011-ad66-4dc658444df2",
   "metadata": {},
   "outputs": [
    {
     "name": "stdout",
     "output_type": "stream",
     "text": [
      "4\n",
      "3\n",
      "2\n"
     ]
    }
   ],
   "source": [
    "apel = 5\n",
    "while apel >=3 : \n",
    "    apel = apel-1\n",
    "    print(apel)\n",
    "    if apel==2:\n",
    "        break\n",
    "else:\n",
    "    print('Loop Ended')"
   ]
  },
  {
   "cell_type": "code",
   "execution_count": 33,
   "id": "a93c1fcb-b525-4f11-8a77-155e02cab51b",
   "metadata": {},
   "outputs": [
    {
     "name": "stdout",
     "output_type": "stream",
     "text": [
      "bekasi\n"
     ]
    }
   ],
   "source": [
    "dic = {'a' : 'bekasi', 'b' : 'Jakarta'}\n",
    "for i in dic :\n",
    "    if i == 'a': # bisa juga pakai #if dic[i] == 'bekasi'\n",
    "        print(dic[i])"
   ]
  },
  {
   "cell_type": "code",
   "execution_count": 1,
   "id": "9f77afaf-4ae0-4198-a802-e1e7cee904cb",
   "metadata": {},
   "outputs": [
    {
     "name": "stdout",
     "output_type": "stream",
     "text": [
      "Aster\n",
      "Hachi\n"
     ]
    }
   ],
   "source": [
    "for i  in ['Aster', 'Jubah', 'Nambo', 'Hachi'] : \n",
    "    if 'b' in i :\n",
    "        continue\n",
    "    print(i)"
   ]
  },
  {
   "cell_type": "code",
   "execution_count": 1,
   "id": "3f6b1415-4d13-4f9a-89c6-e511c5716fcc",
   "metadata": {},
   "outputs": [
    {
     "name": "stdout",
     "output_type": "stream",
     "text": [
      "yes\n",
      "yes\n",
      "yes\n"
     ]
    }
   ],
   "source": [
    "x = 0\n",
    "y=5\n",
    "\n",
    "if x < y: print('yes') #true\n",
    "if y<x : print('yes') #false\n",
    "if x : print('yes') #false \n",
    "if y : print('yes') #true\n",
    "if  'aul' in 'fault': print('yes') #true\n",
    "if 'quux' in ['fa', 'fi','fu']: print('yes') #false"
   ]
  },
  {
   "cell_type": "code",
   "execution_count": 3,
   "id": "18c2deb1-7efd-43cf-aa44-3769988eb814",
   "metadata": {},
   "outputs": [
    {
     "name": "stdout",
     "output_type": "stream",
     "text": [
      "After Conditional\n"
     ]
    }
   ],
   "source": [
    "if 'loo' in ['bar', 'baz', 'quz'] :\n",
    "    print('Ekspresi benar')\n",
    "    print('Executing Statement in Suite')\n",
    "    print('+++++++')\n",
    "    print('Done')\n",
    "print('After Conditional')"
   ]
  },
  {
   "cell_type": "code",
   "execution_count": 4,
   "id": "6b43dc7c-02a4-448b-b694-e97a2321b272",
   "metadata": {},
   "outputs": [
    {
     "name": "stdout",
     "output_type": "stream",
     "text": [
      "Benar nih\n",
      "ini juga benar\n",
      "contoh printan biasa aja\n"
     ]
    }
   ],
   "source": [
    "if 'bar' in ['bar', 'baz', 'quz'] :\n",
    "    \n",
    "    print('Benar nih')\n",
    "\n",
    "    if 10<20 :\n",
    "        print('ini juga benar')\n",
    "\n",
    "    if 10 > 20 :\n",
    "        print('ini salah tapi')\n",
    "print('contoh printan biasa aja')\n"
   ]
  },
  {
   "cell_type": "code",
   "execution_count": 5,
   "id": "2541eaef-043a-4f8c-b7aa-c6e505eb51e4",
   "metadata": {},
   "outputs": [
    {
     "name": "stdout",
     "output_type": "stream",
     "text": [
      "X lebih besar\n"
     ]
    }
   ],
   "source": [
    "x = 70\n",
    "if x < 50 :\n",
    "    print('Benar nih')\n",
    "    print('X lebih kecil')\n",
    "else :\n",
    "    print('X lebih besar')"
   ]
  },
  {
   "cell_type": "code",
   "execution_count": 6,
   "id": "e6e35494-7e0e-4705-ae47-fa38f39ee821",
   "metadata": {},
   "outputs": [
    {
     "name": "stdout",
     "output_type": "stream",
     "text": [
      "Hello Ng\n"
     ]
    }
   ],
   "source": [
    "name = 'ng'\n",
    "if name == 'Gilbert' : \n",
    "    print('Hello Gilbert !')\n",
    "elif name=='Gila' :\n",
    "    print('Hello Gila !')\n",
    "elif name == 'ng' :\n",
    "    print('Hello Ng')\n",
    "else : \n",
    "    print('I dont Know who you are')"
   ]
  },
  {
   "cell_type": "code",
   "execution_count": 7,
   "id": "5520db94-92f5-47b4-9321-b9922351bdbe",
   "metadata": {},
   "outputs": [
    {
     "name": "stdout",
     "output_type": "stream",
     "text": [
      "a\n",
      "b\n",
      "c\n"
     ]
    }
   ],
   "source": [
    "if 'a' in 'bar' :\n",
    "    print(\"a\"); print(\"b\"); print(\"c\")"
   ]
  },
  {
   "cell_type": "code",
   "execution_count": 8,
   "id": "b84f3371-c0d3-4dce-82b6-6d584165dbb6",
   "metadata": {},
   "outputs": [
    {
     "name": "stdout",
     "output_type": "stream",
     "text": [
      "Delta\n",
      "Echo\n"
     ]
    }
   ],
   "source": [
    "eks = 2\n",
    "if eks==1 : print(\"alpha\"); print('Beta'); print('Charlie')\n",
    "elif eks==2 : \n",
    "    print('Delta')\n",
    "    print('Echo')\n",
    "else : print('Foxtrot')"
   ]
  },
  {
   "cell_type": "code",
   "execution_count": 9,
   "id": "690c7124-90d6-411c-8755-70ab12698361",
   "metadata": {},
   "outputs": [
    {
     "name": "stdout",
     "output_type": "stream",
     "text": [
      "Lets f go to the  museum\n"
     ]
    }
   ],
   "source": [
    "rain = True\n",
    "print(\"Lets f go to the\", 'beach' if not rain else ' museum')"
   ]
  },
  {
   "cell_type": "code",
   "execution_count": 10,
   "id": "633bbfd7-0429-4da8-87ee-d5441f699924",
   "metadata": {},
   "outputs": [
    {
     "name": "stdout",
     "output_type": "stream",
     "text": [
      "teen\n"
     ]
    }
   ],
   "source": [
    "age = 12\n",
    "s = 'teen' if age < 21 else 'adult'\n",
    "print(s)"
   ]
  },
  {
   "cell_type": "code",
   "execution_count": 11,
   "id": "79571f56-cd36-4cb2-a004-48e31ba51dad",
   "metadata": {},
   "outputs": [
    {
     "data": {
      "text/plain": [
       "'yes'"
      ]
     },
     "execution_count": 11,
     "metadata": {},
     "output_type": "execute_result"
    }
   ],
   "source": [
    "'yes' if ('foo' in ['foo', 'bar', 'zoo']) else 'no'"
   ]
  },
  {
   "cell_type": "markdown",
   "id": "a4bd41ec-afe3-4c9c-945e-cc3add1fdc9c",
   "metadata": {},
   "source": [
    "# if a<b :\n",
    "#     m = a\n",
    "# else :\n",
    "#     m=b\n",
    "\n",
    "# Bisa diganti dengan\n",
    "\n",
    "# m = a if a<b else b"
   ]
  },
  {
   "cell_type": "code",
   "execution_count": 12,
   "id": "c0405763-ac0d-43aa-93e0-b4293b4a27c3",
   "metadata": {},
   "outputs": [
    {
     "name": "stdout",
     "output_type": "stream",
     "text": [
      "9\n",
      "8\n",
      "7\n",
      "6\n",
      "5\n",
      "4\n",
      "3\n",
      "2\n",
      "1\n",
      "0\n",
      "Loop Done\n"
     ]
    }
   ],
   "source": [
    "n = 10\n",
    "while n>0:\n",
    "    n = n-1\n",
    "    # if n==3:\n",
    "    #     break\n",
    "    print(n)\n",
    "else :\n",
    "    print(\"Loop Done\")"
   ]
  },
  {
   "cell_type": "code",
   "execution_count": 13,
   "id": "c77d2389-d0a2-4da2-b4c9-e73e532428b5",
   "metadata": {},
   "outputs": [
    {
     "name": "stdout",
     "output_type": "stream",
     "text": [
      "4\n",
      "3\n",
      "2\n",
      "1\n",
      "0\n"
     ]
    }
   ],
   "source": [
    "n = 5\n",
    "while n>0 : \n",
    "    n-=1  # n+=1\n",
    "    # if n ==1000 :\n",
    "    #     break\n",
    "    print(n)"
   ]
  },
  {
   "cell_type": "code",
   "execution_count": 14,
   "id": "6d64b71a-91a1-4d94-9bbd-6dcf571757ff",
   "metadata": {},
   "outputs": [
    {
     "name": "stdout",
     "output_type": "stream",
     "text": [
      "lot\n",
      "> qux\n",
      "> baz\n",
      "lit\n",
      "> qux\n",
      "> baz\n",
      "let\n",
      "> qux\n",
      "> baz\n",
      "bar\n",
      "> qux\n",
      "> baz\n",
      "foo\n",
      "> qux\n",
      "> baz\n"
     ]
    }
   ],
   "source": [
    "\n",
    "a = ['foo', 'bar','let','lit','lot']\n",
    "while len(a):\n",
    "    print(a.pop(-1))\n",
    "    b = ['baz', 'qux']\n",
    "    while len(b):\n",
    "        print('>', b.pop(-1))"
   ]
  },
  {
   "cell_type": "code",
   "execution_count": null,
   "id": "4fe8691c-f88b-44c4-86eb-a6496db1f2d1",
   "metadata": {},
   "outputs": [],
   "source": []
  }
 ],
 "metadata": {
  "kernelspec": {
   "display_name": "Python 3 (ipykernel)",
   "language": "python",
   "name": "python3"
  },
  "language_info": {
   "codemirror_mode": {
    "name": "ipython",
    "version": 3
   },
   "file_extension": ".py",
   "mimetype": "text/x-python",
   "name": "python",
   "nbconvert_exporter": "python",
   "pygments_lexer": "ipython3",
   "version": "3.9.13"
  }
 },
 "nbformat": 4,
 "nbformat_minor": 5
}
